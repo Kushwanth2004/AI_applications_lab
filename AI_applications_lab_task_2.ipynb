{
  "nbformat": 4,
  "nbformat_minor": 0,
  "metadata": {
    "colab": {
      "provenance": []
    },
    "kernelspec": {
      "name": "python3",
      "display_name": "Python 3"
    },
    "language_info": {
      "name": "python"
    }
  },
  "cells": [
    {
      "cell_type": "markdown",
      "source": [
        "Task-2"
      ],
      "metadata": {
        "id": "qEDM-Nqcp7zP"
      }
    },
    {
      "cell_type": "markdown",
      "source": [
        "Sudoku"
      ],
      "metadata": {
        "id": "QLU68me1pyj-"
      }
    },
    {
      "cell_type": "code",
      "execution_count": 4,
      "metadata": {
        "colab": {
          "base_uri": "https://localhost:8080/"
        },
        "id": "mmvahiMopsaR",
        "outputId": "0b526db6-cd43-4503-bc50-4a91fa64e8f0"
      },
      "outputs": [
        {
          "output_type": "stream",
          "name": "stdout",
          "text": [
            "[5, 3, 4, 6, 7, 8, 9, 1, 2]\n",
            "[6, 7, 2, 1, 9, 5, 3, 4, 8]\n",
            "[1, 9, 8, 3, 4, 2, 5, 6, 7]\n",
            "[8, 5, 9, 7, 6, 1, 4, 2, 3]\n",
            "[4, 2, 6, 8, 5, 3, 7, 9, 1]\n",
            "[7, 1, 3, 9, 2, 4, 8, 5, 6]\n",
            "[9, 6, 1, 5, 3, 7, 2, 8, 4]\n",
            "[2, 8, 7, 4, 1, 9, 6, 3, 5]\n",
            "[3, 4, 5, 2, 8, 6, 1, 7, 9]\n"
          ]
        }
      ],
      "source": [
        "def is_valid(board, row, col, num):\n",
        "    # Check if the number is already in the current row\n",
        "    if num in board[row]:\n",
        "        return False\n",
        "\n",
        "    # Check if the number is already in the current column\n",
        "    for r in range(9):\n",
        "        if board[r][col] == num:\n",
        "            return False\n",
        "\n",
        "    # Check if the number is already in the current 3x3 subgrid\n",
        "    start_row, start_col = 3 * (row // 3), 3 * (col // 3)\n",
        "    for r in range(start_row, start_row + 3):\n",
        "        for c in range(start_col, start_col + 3):\n",
        "            if board[r][c] == num:\n",
        "                return False\n",
        "\n",
        "    return True\n",
        "\n",
        "def solve_sudoku(board):\n",
        "    # Find the next empty cell (row, col)\n",
        "    def find_empty_cell():\n",
        "        for r in range(9):\n",
        "            for c in range(9):\n",
        "                if board[r][c] == 0:\n",
        "                    return r, c\n",
        "        return None, None\n",
        "\n",
        "    def solve():\n",
        "        nonlocal board\n",
        "        row, col = find_empty_cell()\n",
        "        if row is None:  # If no empty cells are found, the puzzle is solved\n",
        "            return True\n",
        "\n",
        "        for num in range(1, 10):\n",
        "            if is_valid(board, row, col, num):\n",
        "                board[row][col] = num\n",
        "                if solve():  # Recursively attempt to solve the rest of the board\n",
        "                    return True\n",
        "                board[row][col] = 0  # Backtrack\n",
        "        return False\n",
        "\n",
        "    solve()\n",
        "\n",
        "# Example usage:\n",
        "if __name__ == \"__main__\":\n",
        "    sudoku_board = [\n",
        "        [5, 3, 0, 0, 7, 0, 0, 0, 0],\n",
        "        [6, 0, 0, 1, 9, 5, 0, 0, 0],\n",
        "        [0, 9, 8, 0, 0, 0, 0, 6, 0],\n",
        "        [8, 0, 0, 0, 6, 0, 0, 0, 3],\n",
        "        [4, 0, 0, 8, 0, 3, 0, 0, 1],\n",
        "        [7, 0, 0, 0, 2, 0, 0, 0, 6],\n",
        "        [0, 6, 0, 0, 0, 0, 2, 8, 0],\n",
        "        [0, 0, 0, 4, 1, 9, 0, 0, 5],\n",
        "        [0, 0, 0, 0, 8, 0, 0, 7, 9]\n",
        "    ]\n",
        "\n",
        "    solve_sudoku(sudoku_board)\n",
        "\n",
        "    for row in sudoku_board:\n",
        "        print(row)\n"
      ]
    },
    {
      "cell_type": "markdown",
      "source": [
        "Cross-Word"
      ],
      "metadata": {
        "id": "01-pXDtLqACe"
      }
    },
    {
      "cell_type": "code",
      "source": [
        "import random\n",
        "import string\n",
        "\n",
        "def generate_crossword(words):\n",
        "    max_len = max(len(word) for word in words)\n",
        "    grid_size = max(max_len, 10)\n",
        "    grid = [[' ' for _ in range(grid_size)] for _ in range(grid_size)]\n",
        "    random.shuffle(words)\n",
        "    for word in words:\n",
        "        if random.choice([True, False]):\n",
        "            place_word_horizontal(grid, word)\n",
        "        else:\n",
        "            place_word_vertical(grid, word)\n",
        "    fill_empty_spaces(grid)\n",
        "\n",
        "    return grid\n",
        "\n",
        "def place_word_horizontal(grid, word):\n",
        "    row = random.randint(0, len(grid) - 1)\n",
        "    col = random.randint(0, len(grid[0]) - len(word))\n",
        "\n",
        "    for i in range(len(word)):\n",
        "        grid[row][col + i] = word[i]\n",
        "\n",
        "def place_word_vertical(grid, word):\n",
        "    row = random.randint(0, len(grid) - len(word))\n",
        "    col = random.randint(0, len(grid[0]) - 1)\n",
        "\n",
        "    for i in range(len(word)):\n",
        "        grid[row + i][col] = word[i]\n",
        "\n",
        "def fill_empty_spaces(grid):\n",
        "    for i in range(len(grid)):\n",
        "        for j in range(len(grid[i])):\n",
        "            if grid[i][j] == ' ':\n",
        "                grid[i][j] = random.choice(string.ascii_uppercase)\n",
        "\n",
        "def print_crossword(grid):\n",
        "    for row in grid:\n",
        "        print(' '.join(row))\n",
        "word_list = [\"PYTHON\", \"JAVA\", \"CROSSWORD\", \"CODE\", \"COMPUTER\"]\n",
        "crossword_grid = generate_crossword(word_list)\n",
        "\n",
        "print(\"Crossword Puzzle:\")\n",
        "print_crossword(crossword_grid)"
      ],
      "metadata": {
        "colab": {
          "base_uri": "https://localhost:8080/"
        },
        "id": "jjFokHxGp3w-",
        "outputId": "0af0ab5a-7a0d-4a56-97a8-ca852ffb33da"
      },
      "execution_count": 2,
      "outputs": [
        {
          "output_type": "stream",
          "name": "stdout",
          "text": [
            "Crossword Puzzle:\n",
            "N Q R L K O P U P E\n",
            "C P Y T H O N S C I\n",
            "O A A L E X F Q T H\n",
            "M E N R D F O F G J\n",
            "P F W C B X Z Q R N\n",
            "U F Y Q C R I S B T\n",
            "T L L V O Y P I J L\n",
            "E H E J A V A H C G\n",
            "R B X A E R N Q Z W\n",
            "X C R O S S W O R D\n"
          ]
        }
      ]
    }
  ]
}